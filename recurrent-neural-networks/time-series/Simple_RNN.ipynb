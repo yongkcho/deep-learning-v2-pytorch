{
 "cells": [
  {
   "cell_type": "markdown",
   "metadata": {},
   "source": [
    "# Lesson 1 Simple RNN\n",
    "\n",
    "simple RNN을 만들어 **시계열 예측**을 해 보고자 합니다. 데이터를 만들어 보고,값을 예측해 보도록 하겠습니다.\n",
    "\n",
    "<img src='assets/time_prediction.png' width=40% />\n",
    "\n",
    "> * 먼저, 예측에 사용할 데이터를 만들어 보겠습니다.\n",
    "* 그리고 PyTorch를 활용해 RNN을 만듭니다.\n",
    "* 그 다음 신경망을 훈련시키고 예측을 해 보겠습니다."
   ]
  },
  {
   "cell_type": "markdown",
   "metadata": {},
   "source": [
    "## 1) Import resources and create data "
   ]
  },
  {
   "cell_type": "code",
   "execution_count": 1,
   "metadata": {},
   "outputs": [],
   "source": [
    "import torch\n",
    "from torch import nn\n",
    "import numpy as np\n",
    "import matplotlib.pyplot as plt\n",
    "%matplotlib inline"
   ]
  },
  {
   "cell_type": "code",
   "execution_count": 2,
   "metadata": {},
   "outputs": [
    {
     "data": {
      "image/png": "[encoded data removed]",
      "text/plain": [
       "<Figure size 576x360 with 1 Axes>"
      ]
     },
     "metadata": {
      "needs_background": "light"
     },
     "output_type": "display_data"
    }
   ],
   "source": [
    "plt.figure(figsize=(8,5))\n",
    "\n",
    "# 데이터의 한 batch에 얼마나 많은 time stamp 또는 data points가 있는지 정의합니다.\n",
    "seq_length = 20\n",
    "\n",
    "# 일정한 간격을 지닌 데이터 포인트를 만듧니다.\n",
    "time_steps = np.linspace(0, np.pi, seq_length + 1)\n",
    "data = np.sin(time_steps) \n",
    "data.resize((seq_length + 1, 1)) # (seq_length+1, 1)로 사이즈를 바꿔, input이 가능한 차원으로 바꿔줍니다.\n",
    "\n",
    "x = data[:-1] # 마지막 데이터 포인트를 제외한 데이터\n",
    "y = data[1:] # 첫번째 데이터 포인트를 제외한 데이터\n",
    "\n",
    "# 데이터를 plot합니다 \n",
    "plt.plot(time_steps[1:], x, 'r.', label='input, x') # x\n",
    "plt.plot(time_steps[1:], y, 'b.', label='target, y') # y\n",
    "\n",
    "plt.legend(loc='best')\n",
    "plt.show()"
   ]
  },
  {
   "cell_type": "markdown",
   "metadata": {},
   "source": [
    "---\n",
    "## RNN 정의하기\n",
    "\n",
    "이제 PyTorch의 `nn.RNN`을 사용하고 마지막에 fully-connected layer를 더해 RNN을 정의해 보겠습니다. RNN은 다음과 같은 파라미터를 받습니다.\n",
    "\n",
    "* **input_size** - input의 사이즈 \n",
    "* **hidden_dim** - RNN의 output과 hidden state에서 사용할 feature의 수\n",
    "* **n_layers** - RNN을 만드는 layer의 수. 보통 1~3 사이에서 정합니다. Stacked RNN을 만들기 위해서는 1보다 큰 값을 입력해야 합니다.\n",
    "* **batch_first** - 1번째 차원에서 input이나 output의 batch size를 정합니다. (batch_size, seq_length, hidden_dim)\n",
    "\n",
    "시작하기 전에 [RNN 문서](https://pytorch.org/docs/stable/nn.html#rnn)를 읽고 RNN에 대해 더 알아봅시다."
   ]
  },
  {
   "cell_type": "code",
   "execution_count": 3,
   "metadata": {},
   "outputs": [],
   "source": [
    "class RNN(nn.Module):\n",
    "    def __init__(self, input_size, output_size, hidden_dim, n_layers):\n",
    "        super(RNN, self).__init__()\n",
    "        \n",
    "        self.hidden_dim=hidden_dim\n",
    "\n",
    "        # RNN을 위의 parameter들을 사용해 정의합니다. \n",
    "        # batch_first는 input과 output의 첫 번째 batch의 차원을 batch_size로 정한다는 것을 의미합니다. \n",
    "        self.rnn = nn.RNN(input_size, hidden_dim, n_layers, batch_first=True)\n",
    "        \n",
    "        # fully-connected layer을 추가합니다. \n",
    "        self.fc = nn.Linear(hidden_dim, output_size)\n",
    "\n",
    "    def forward(self, x, hidden):\n",
    "        # x (batch_size, seq_length, input_size)\n",
    "        # hidden (n_layers, batch_size, hidden_dim)\n",
    "        # r_out (batch_size, time_step, hidden_size)\n",
    "        batch_size = x.size(0)\n",
    "        \n",
    "        # RNN의 output\n",
    "        r_out, hidden = self.rnn(x, hidden)\n",
    "        # output의 형태 (batch_size*seq_length, hidden_dim)\n",
    "        r_out = r_out.view(-1, self.hidden_dim)  \n",
    "        \n",
    "        # final output \n",
    "        output = self.fc(r_out)\n",
    "        \n",
    "        return output, hidden\n"
   ]
  },
  {
   "cell_type": "markdown",
   "metadata": {},
   "source": [
    "### input과 output의 차원 확인\n",
    "\n",
    "모델이 제대로 작동하는지 체크하기 위해, 위에서 정의한 input data로 실험해 보겠습니다."
   ]
  },
  {
   "cell_type": "code",
   "execution_count": 4,
   "metadata": {},
   "outputs": [
    {
     "name": "stdout",
     "output_type": "stream",
     "text": [
      "Input size:  torch.Size([1, 20, 1])\n",
      "Output size:  torch.Size([20, 1])\n",
      "Hidden state size:  torch.Size([2, 1, 10])\n"
     ]
    }
   ],
   "source": [
    "# 차원이 적합한지 확인하기 위해 테스트 해 보겠습니다. \n",
    "test_rnn = RNN(input_size=1, output_size=1, hidden_dim=10, n_layers=2)\n",
    "\n",
    "# 간격이 일정한 test data를 만듭니다.\n",
    "time_steps = np.linspace(0, np.pi, seq_length)\n",
    "data = np.sin(time_steps)\n",
    "data.resize((seq_length, 1))\n",
    "\n",
    "test_input = torch.Tensor(data).unsqueeze(0) # 첫 번째 차원과 동일하게 batch_size를  1로 조정합니다. \n",
    "print('Input size: ', test_input.size())\n",
    "\n",
    "# rnn size를 확인해 봅니다.\n",
    "test_out, test_h = test_rnn(test_input, None)\n",
    "print('Output size: ', test_out.size())\n",
    "print('Hidden state size: ', test_h.size())"
   ]
  },
  {
   "cell_type": "markdown",
   "metadata": {},
   "source": [
    "---\n",
    "## Training the RNN\n",
    "\n",
    "RNN을 hyperparameter를 추가해 RNN을 인스턴스화합니다. 훈련을 시킨 뒤 어떻게 작동하는 지 확인해 보겠습니다."
   ]
  },
  {
   "cell_type": "code",
   "execution_count": 5,
   "metadata": {},
   "outputs": [
    {
     "name": "stdout",
     "output_type": "stream",
     "text": [
      "RNN(\n",
      "  (rnn): RNN(1, 32, batch_first=True)\n",
      "  (fc): Linear(in_features=32, out_features=1, bias=True)\n",
      ")\n"
     ]
    }
   ],
   "source": [
    "# hyperparameters를 정의합니다\n",
    "input_size=1 \n",
    "output_size=1\n",
    "hidden_dim=32\n",
    "n_layers=1\n",
    "\n",
    "# RNN을 인스턴스화합니다.\n",
    "rnn = RNN(input_size, output_size, hidden_dim, n_layers)\n",
    "print(rnn)"
   ]
  },
  {
   "cell_type": "markdown",
   "metadata": {},
   "source": [
    "### Loss, Optimization 정의\n",
    "\n",
    "여기서 해결해야 하는 문제는 회귀문제입니다. RNN을 통해 다음 data point를 제대로 예측할 수 있을까요?\n",
    "\n",
    ">* data point는 좌표값이므로, 예측값과 실제 데이터를 비교하기 위해 regrssion loss를 사용합니다. \n",
    "\n",
    "* recurrent model에서는 보통 Adam optimizer를 사용합니다."
   ]
  },
  {
   "cell_type": "code",
   "execution_count": 6,
   "metadata": {},
   "outputs": [],
   "source": [
    "# MSE loss와 learning rate가 0.01인 Adam optimizer를 정의합니다. \n",
    "criterion = nn.MSELoss()\n",
    "optimizer = torch.optim.Adam(rnn.parameters(), lr=0.01) "
   ]
  },
  {
   "cell_type": "markdown",
   "metadata": {},
   "source": [
    "### Training function 정의\n",
    "\n",
    "훈련을 위해 함수를 정의합니다. 여러 차례 훈련을 수행하고, 훈련된 RNN을 반환합니다. 또한 손실과 예측의 정확도도 표시합니다.\n",
    "\n",
    "#### Hidden State\n",
    "\n",
    "hidden 에 대해 살펴보는 것이 필요합니다.\n",
    "* training data batch를 반복하기 전에 hidden state는 초기화됩니다. \n",
    "* RNN을 통해 새로운 hidden state가 생성되기 전, 마지막 hidden state를 얻고 이를 다음 RNN에 input으로 활용합니다."
   ]
  },
  {
   "cell_type": "code",
   "execution_count": 7,
   "metadata": {},
   "outputs": [],
   "source": [
    "# RNN을 훈련합니다.\n",
    "def train(rnn, n_steps, print_every):\n",
    "    \n",
    "    # hidden state를 초기화합니다.\n",
    "    hidden = None      \n",
    "    \n",
    "    for batch_i, step in enumerate(range(n_steps)):\n",
    "        # training data를 정의합니다. \n",
    "        time_steps = np.linspace(step * np.pi, (step+1)*np.pi, seq_length + 1)\n",
    "        data = np.sin(time_steps)\n",
    "        data.resize((seq_length + 1, 1)) # input_size=1\n",
    "\n",
    "        x = data[:-1]\n",
    "        y = data[1:]\n",
    "        \n",
    "        # data를 tensor로 변환합니다.\n",
    "        x_tensor = torch.Tensor(x).unsqueeze(0) # unsqueeze를 통해 1차원으로 바꿔, batch_size에 맞춥니다.\n",
    "        y_tensor = torch.Tensor(y)\n",
    "\n",
    "        # RNN의 output \n",
    "        prediction, hidden = rnn(x_tensor, hidden)\n",
    "\n",
    "        ## Representing Memory ##\n",
    "        # hidden state를 위한 새로운 변수를 만들고 hidden state를 history에서 지웁니다.\n",
    "        # 전체 history에 backpropagate를 할 필요가 없습니다.\n",
    "        hidden = hidden.data\n",
    "\n",
    "        # loss를 계산합니다.\n",
    "        loss = criterion(prediction, y_tensor)\n",
    "        # zero gradients\n",
    "        optimizer.zero_grad()\n",
    "        # update weight를 활용해 backprop을 수행합니다. \n",
    "        loss.backward()\n",
    "        optimizer.step()\n",
    "\n",
    "        # loss와 predictions을 출력합니다.\n",
    "        if batch_i%print_every == 0:        \n",
    "            print('Loss: ', loss.item())\n",
    "            plt.plot(time_steps[1:], x, 'r.') # input\n",
    "            plt.plot(time_steps[1:], prediction.data.numpy().flatten(), 'b.') # predictions\n",
    "            plt.show()\n",
    "    \n",
    "    return rnn\n"
   ]
  },
  {
   "cell_type": "code",
   "execution_count": 8,
   "metadata": {},
   "outputs": [
    {
     "name": "stdout",
     "output_type": "stream",
     "text": [
      "Loss:  0.3541126549243927\n"
     ]
    },
    {
     "data": {
      "image/png": "[encoded data removed]",
      "text/plain": [
       "<Figure size 432x288 with 1 Axes>"
      ]
     },
     "metadata": {
      "needs_background": "light"
     },
     "output_type": "display_data"
    },
    {
     "name": "stdout",
     "output_type": "stream",
     "text": [
      "Loss:  0.05497528985142708\n"
     ]
    },
    {
     "data": {
      "image/png": "[encoded data removed]",
      "text/plain": [
       "<Figure size 432x288 with 1 Axes>"
      ]
     },
     "metadata": {
      "needs_background": "light"
     },
     "output_type": "display_data"
    },
    {
     "name": "stdout",
     "output_type": "stream",
     "text": [
      "Loss:  0.011771069839596748\n"
     ]
    },
    {
     "data": {
      "image/png": "[encoded data removed]",
      "text/plain": [
       "<Figure size 432x288 with 1 Axes>"
      ]
     },
     "metadata": {
      "needs_background": "light"
     },
     "output_type": "display_data"
    },
    {
     "name": "stdout",
     "output_type": "stream",
     "text": [
      "Loss:  0.0013050108682364225\n"
     ]
    },
    {
     "data": {
      "image/png": "[encoded data removed]",
      "text/plain": [
       "<Figure size 432x288 with 1 Axes>"
      ]
     },
     "metadata": {
      "needs_background": "light"
     },
     "output_type": "display_data"
    },
    {
     "name": "stdout",
     "output_type": "stream",
     "text": [
      "Loss:  0.0008865222334861755\n"
     ]
    },
    {
     "data": {
      "image/png": "[encoded data removed]",
      "text/plain": [
       "<Figure size 432x288 with 1 Axes>"
      ]
     },
     "metadata": {
      "needs_background": "light"
     },
     "output_type": "display_data"
    }
   ],
   "source": [
    "# train the rnn and monitor results\n",
    "n_steps = 75\n",
    "print_every = 15\n",
    "\n",
    "trained_rnn = train(rnn, n_steps, print_every)"
   ]
  },
  {
   "cell_type": "markdown",
   "metadata": {},
   "source": [
    "### 시계열 예측 \n",
    "\n",
    "시계열 예측은 더 많은 작업에 적용할 수 있습니다. 날씨나 주식 시작 등의 흐름을 예측하는데에도 사용할수 수 있습니다. "
   ]
  }
 ],
 "metadata": {
  "kernelspec": {
   "display_name": "Python [conda env:root] *",
   "language": "python",
   "name": "conda-root-py"
  },
  "language_info": {
   "codemirror_mode": {
    "name": "ipython",
    "version": 3
   },
   "file_extension": ".py",
   "mimetype": "text/x-python",
   "name": "python",
   "nbconvert_exporter": "python",
   "pygments_lexer": "ipython3",
   "version": "3.7.3"
  }
 },
 "nbformat": 4,
 "nbformat_minor": 2
}
